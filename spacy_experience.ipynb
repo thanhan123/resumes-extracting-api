{
 "cells": [
  {
   "cell_type": "code",
   "execution_count": 1,
   "id": "423e5bda-c588-4e93-b5a8-91d01d023a1a",
   "metadata": {},
   "outputs": [],
   "source": [
    "import spacy"
   ]
  },
  {
   "cell_type": "code",
   "execution_count": 2,
   "id": "e3a00a44-f0aa-4709-b4ba-04b1e6756b3a",
   "metadata": {},
   "outputs": [],
   "source": [
    "nlp = spacy.load('en_core_web_sm')"
   ]
  },
  {
   "cell_type": "code",
   "execution_count": 3,
   "id": "44c6b400-4a31-47fa-ba29-6a4d27f2e15b",
   "metadata": {},
   "outputs": [],
   "source": [
    "text = \"The Covid-19 pandemic is not only having a seismic impact on global public health but also causing chaos for the economy, with supply chain disruptions and labor shortages a big problem for businesses around the world. Shifts that have taken place in the labor market are becoming more pronounced, with many people voluntarily quitting roles just as demand for workers rises as economies reopen. Economists say changing demographics like ageing and retiring workers are a factor behind the shortages, as well as border controls and immigration limits, and demands for better pay and flexible working arrangements. The latest labor data from the U.S., for example, shows that more workers are willing to walk away from their jobs or to switch employment. The most recent U.S. Labor Department’s monthly Job Openings and Labor Turnover Survey, released last week, showed there were 10.4 million job openings in August whereas the number of people leaving their jobs (the so-called “quits rate”) rose to 4.3 million, the highest level seen on records dating back to Dec. 2000. Sectors particularly affected by workers quitting their jobs were accommodation and food services, wholesale trade and state and local government education. The problem is not just a U.S. one, with many countries around the world experiencing a shortage of workers. It matters because it’s exacerbating supply chain disruptions around the globe, with key industries struggling to regain momentum due to a lack of workers or raw materials.\""
   ]
  },
  {
   "cell_type": "code",
   "execution_count": 4,
   "id": "c42fa6f4-f5eb-461b-941f-8d3c583ba203",
   "metadata": {},
   "outputs": [
    {
     "data": {
      "text/plain": [
       "'The Covid-19 pandemic is not only having a seismic impact on global public health but also causing chaos for the economy, with supply chain disruptions and labor shortages a big problem for businesses around the world. Shifts that have taken place in the labor market are becoming more pronounced, with many people voluntarily quitting roles just as demand for workers rises as economies reopen. Economists say changing demographics like ageing and retiring workers are a factor behind the shortages, as well as border controls and immigration limits, and demands for better pay and flexible working arrangements. The latest labor data from the U.S., for example, shows that more workers are willing to walk away from their jobs or to switch employment. The most recent U.S. Labor Department’s monthly Job Openings and Labor Turnover Survey, released last week, showed there were 10.4 million job openings in August whereas the number of people leaving their jobs (the so-called “quits rate”) rose to 4.3 million, the highest level seen on records dating back to Dec. 2000. Sectors particularly affected by workers quitting their jobs were accommodation and food services, wholesale trade and state and local government education. The problem is not just a U.S. one, with many countries around the world experiencing a shortage of workers. It matters because it’s exacerbating supply chain disruptions around the globe, with key industries struggling to regain momentum due to a lack of workers or raw materials.'"
      ]
     },
     "execution_count": 4,
     "metadata": {},
     "output_type": "execute_result"
    }
   ],
   "source": [
    "text"
   ]
  },
  {
   "cell_type": "code",
   "execution_count": 5,
   "id": "c93d00a7-719d-4f46-8b90-66ac9bfb96bc",
   "metadata": {},
   "outputs": [],
   "source": [
    "doc = nlp(text)"
   ]
  },
  {
   "cell_type": "code",
   "execution_count": 10,
   "id": "7bf50806-a2d3-4e21-8d45-aee1a790945d",
   "metadata": {},
   "outputs": [
    {
     "name": "stdout",
     "output_type": "stream",
     "text": [
      "having\n",
      "causing\n",
      "shortages\n",
      "taken\n",
      "becoming\n",
      "pronounced\n",
      "quitting\n",
      "rises\n",
      "reopen\n",
      "say\n",
      "changing\n",
      "ageing\n",
      "retiring\n",
      "demands\n",
      "working\n",
      "shows\n",
      "walk\n",
      "switch\n",
      "released\n",
      "showed\n",
      "leaving\n",
      "called\n",
      "rose\n",
      "seen\n",
      "dating\n",
      "affected\n",
      "quitting\n",
      "experiencing\n",
      "matters\n",
      "exacerbating\n",
      "struggling\n",
      "regain\n"
     ]
    }
   ],
   "source": [
    "for token in doc:\n",
    "    if token.pos_ == \"VERB\":\n",
    "        print(token)"
   ]
  },
  {
   "cell_type": "code",
   "execution_count": 11,
   "id": "75dc636a-13f1-4e56-acc8-886a0ec79c79",
   "metadata": {},
   "outputs": [
    {
     "name": "stdout",
     "output_type": "stream",
     "text": [
      "U.S. GPE\n",
      "U.S. Labor Department’s ORG\n",
      "monthly DATE\n",
      "Labor Turnover Survey ORG\n",
      "last week DATE\n",
      "10.4 million CARDINAL\n",
      "August DATE\n",
      "4.3 million CARDINAL\n",
      "Dec. 2000 DATE\n",
      "U.S. GPE\n"
     ]
    }
   ],
   "source": [
    "for ent in doc.ents:\n",
    "    print(ent.text, ent.label_)"
   ]
  },
  {
   "cell_type": "code",
   "execution_count": null,
   "id": "518bb1a3-2837-4223-bade-c8c9c95d7b5d",
   "metadata": {},
   "outputs": [],
   "source": []
  }
 ],
 "metadata": {
  "kernelspec": {
   "display_name": "extract_cv",
   "language": "python",
   "name": "extract_cv"
  },
  "language_info": {
   "codemirror_mode": {
    "name": "ipython",
    "version": 3
   },
   "file_extension": ".py",
   "mimetype": "text/x-python",
   "name": "python",
   "nbconvert_exporter": "python",
   "pygments_lexer": "ipython3",
   "version": "3.9.7"
  }
 },
 "nbformat": 4,
 "nbformat_minor": 5
}
