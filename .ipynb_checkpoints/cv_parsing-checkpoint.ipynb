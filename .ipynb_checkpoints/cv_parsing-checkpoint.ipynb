{
 "cells": [
  {
   "cell_type": "code",
   "execution_count": 1,
   "id": "b6e2f6fd-a03b-4951-90b1-112c528acbfb",
   "metadata": {},
   "outputs": [],
   "source": [
    "import spacy\n",
    "import os\n",
    "import re\n",
    "import pandas as pd\n",
    "import pdftotext"
   ]
  },
  {
   "cell_type": "code",
   "execution_count": 3,
   "id": "e94e855e-e2ee-4781-87d2-37ca6f34acc4",
   "metadata": {},
   "outputs": [],
   "source": [
    "#1. Converting pdf to text"
   ]
  },
  {
   "cell_type": "code",
   "execution_count": 9,
   "id": "e43276e4-4732-4507-bdc8-17d1569ba79c",
   "metadata": {},
   "outputs": [],
   "source": [
    "def convert_pdf(f):\n",
    "    output_filename = os.path.basename(os.path.splitext(f)[0]) + \".txt\"\n",
    "    output_filepath = os.path.join(\"output/txt/\", output_filename)\n",
    "    with open(f, \"rb\") as f:\n",
    "        pdf = pdftotext.PDF(f)\n",
    "    with open(output_filepath, \"w\") as f:\n",
    "        f.write(''.join(pdf))\n",
    "    print(output_filepath + \" saved successfully!\")\n",
    "    return open(output_filepath).read()"
   ]
  },
  {
   "cell_type": "code",
   "execution_count": 3,
   "id": "f0827444-c75d-4e8b-bfc8-6748e25afc72",
   "metadata": {},
   "outputs": [],
   "source": [
    "nlp = spacy.load('en_core_web_sm')"
   ]
  },
  {
   "cell_type": "code",
   "execution_count": 18,
   "id": "a4e914a2-995c-4740-9d29-bae8212d7629",
   "metadata": {},
   "outputs": [],
   "source": [
    "def parse_content(text, required_skillset):\n",
    "    skillset = re.compile(\"|\".join(required_skillset))\n",
    "    phone_num = re.compile(\n",
    "        \"(\\d{3}[-\\.\\s]??\\d{3}[-\\.\\s]??\\d{4}|\\(\\d{3}\\)\\s*\\d{3}[-\\.\\s]??\\d{4}|\\d{3}[-\\.\\s]??\\d{4})\"\n",
    "    )\n",
    "    doc = nlp(text)\n",
    "    name = [entity.text for entity in doc.ents if entity.label_ == \"PERSON\"][0]\n",
    "    email = [word for word in doc if word.like_email == True][0]\n",
    "    phone = str(re.findall(phone_num, text.lower()))\n",
    "    skills_list = re.findall(skillset, text.lower())\n",
    "    unique_skills_list = str(set(skills_list))\n",
    "    print(\"Extraction completed successfully!!!\")\n",
    "    return (name, email, phone, unique_skills_list)"
   ]
  },
  {
   "cell_type": "code",
   "execution_count": 24,
   "id": "5a5435d4-2f3b-4ec8-a8a6-e8834b74e13c",
   "metadata": {},
   "outputs": [],
   "source": [
    "def process_content(text):\n",
    "    # remove \"broken\" space character\n",
    "    text = re.sub('\\u200b', '', text)\n",
    "    \n",
    "    # process for all uppercase name\n",
    "    uppercase_words_regex = re.compile(\"[A-Z]+\")\n",
    "    uppercase_words = [w for w in re.findall(uppercase_words_regex, text) if len(w) > 1]\n",
    "    for i in range(len(uppercase_words)):\n",
    "        w = uppercase_words[i]\n",
    "        new_w = w[0]+w[1:].lower()\n",
    "        text = re.sub(w, new_w, text)\n",
    "    return text"
   ]
  },
  {
   "cell_type": "code",
   "execution_count": 28,
   "id": "03ad702b-4a04-484b-a952-5494eea984b7",
   "metadata": {},
   "outputs": [
    {
     "name": "stdout",
     "output_type": "stream",
     "text": [
      "Reading.....Resume.pdf\n",
      "output/txt/Resume.txt saved successfully!\n",
      "Extraction completed successfully!!!\n",
      "Reading.....Resume-DinhThanhAn.pdf\n",
      "output/txt/Resume-DinhThanhAn.txt saved successfully!\n",
      "Extraction completed successfully!!!\n",
      "Reading.....ios-developer-1561975506.pdf\n",
      "output/txt/ios-developer-1561975506.txt saved successfully!\n",
      "Extraction completed successfully!!!\n"
     ]
    }
   ],
   "source": [
    "required_skillset = {\"ios\", \"swift\", \"xcode\", \"objective c\", \"realm\", \"fastlane\", \"android\"}\n",
    "result_dict = {'name': [], 'phone': [], 'email': [], 'skills': [], 'resumes': []} \n",
    "names = []\n",
    "phones = []\n",
    "emails = []\n",
    "skills = []\n",
    "resumes = []\n",
    "\n",
    "for file in os.listdir('resumes/'):\n",
    "    if file.endswith('.pdf'):\n",
    "        print('Reading.....' + file)\n",
    "        txt = process_content(convert_pdf(os.path.join('resumes/',file)))\n",
    "        name, email, phone, skill_set = parse_content(txt, required_skillset)\n",
    "        names.append(name)\n",
    "        emails.append(email)\n",
    "        phones.append(phone)\n",
    "        skills.append(skill_set)\n",
    "        resumes.append(file)"
   ]
  },
  {
   "cell_type": "code",
   "execution_count": 29,
   "id": "a6fd5e56-ced4-4057-ab28-8661c179db6e",
   "metadata": {},
   "outputs": [],
   "source": [
    "result_dict['name'] = names\n",
    "result_dict['phone'] = phones\n",
    "result_dict['email'] = emails\n",
    "result_dict['skills'] = skills\n",
    "result_dict['resumes'] = resumes"
   ]
  },
  {
   "cell_type": "code",
   "execution_count": 30,
   "id": "e1c5848a-2311-424a-9726-b00a22a5d60a",
   "metadata": {},
   "outputs": [
    {
     "data": {
      "text/html": [
       "<div>\n",
       "<style scoped>\n",
       "    .dataframe tbody tr th:only-of-type {\n",
       "        vertical-align: middle;\n",
       "    }\n",
       "\n",
       "    .dataframe tbody tr th {\n",
       "        vertical-align: top;\n",
       "    }\n",
       "\n",
       "    .dataframe thead th {\n",
       "        text-align: right;\n",
       "    }\n",
       "</style>\n",
       "<table border=\"1\" class=\"dataframe\">\n",
       "  <thead>\n",
       "    <tr style=\"text-align: right;\">\n",
       "      <th></th>\n",
       "      <th>name</th>\n",
       "      <th>phone</th>\n",
       "      <th>email</th>\n",
       "      <th>skills</th>\n",
       "      <th>resumes</th>\n",
       "    </tr>\n",
       "  </thead>\n",
       "  <tbody>\n",
       "    <tr>\n",
       "      <th>0</th>\n",
       "      <td>Samantha Ru</td>\n",
       "      <td>['202-555-0135']</td>\n",
       "      <td>info@resumekraft.com</td>\n",
       "      <td>{'xcode', 'swift', 'ios'}</td>\n",
       "      <td>Resume.pdf</td>\n",
       "    </tr>\n",
       "    <tr>\n",
       "      <th>1</th>\n",
       "      <td>Dinh Thanh</td>\n",
       "      <td>['080-7258']</td>\n",
       "      <td>thanhan.uit@gmail.com</td>\n",
       "      <td>{'fastlane', 'ios', 'objective c', 'xcode', 'r...</td>\n",
       "      <td>Resume-DinhThanhAn.pdf</td>\n",
       "    </tr>\n",
       "    <tr>\n",
       "      <th>2</th>\n",
       "      <td>Robert Smith</td>\n",
       "      <td>[]</td>\n",
       "      <td>info@qwikresume.com</td>\n",
       "      <td>{'xcode', 'swift', 'android', 'ios'}</td>\n",
       "      <td>ios-developer-1561975506.pdf</td>\n",
       "    </tr>\n",
       "  </tbody>\n",
       "</table>\n",
       "</div>"
      ],
      "text/plain": [
       "           name             phone                  email  \\\n",
       "0   Samantha Ru  ['202-555-0135']   info@resumekraft.com   \n",
       "1    Dinh Thanh      ['080-7258']  thanhan.uit@gmail.com   \n",
       "2  Robert Smith                []    info@qwikresume.com   \n",
       "\n",
       "                                              skills  \\\n",
       "0                          {'xcode', 'swift', 'ios'}   \n",
       "1  {'fastlane', 'ios', 'objective c', 'xcode', 'r...   \n",
       "2               {'xcode', 'swift', 'android', 'ios'}   \n",
       "\n",
       "                        resumes  \n",
       "0                    Resume.pdf  \n",
       "1        Resume-DinhThanhAn.pdf  \n",
       "2  ios-developer-1561975506.pdf  "
      ]
     },
     "execution_count": 30,
     "metadata": {},
     "output_type": "execute_result"
    }
   ],
   "source": [
    "result_df = pd.DataFrame(result_dict)\n",
    "result_df"
   ]
  },
  {
   "cell_type": "code",
   "execution_count": 23,
   "id": "4b7428e8-7e1e-4a09-b82d-ac7fdc5af6d7",
   "metadata": {},
   "outputs": [],
   "source": [
    "result_df.to_csv('output/csv/parsed_resumes.csv')"
   ]
  }
 ],
 "metadata": {
  "kernelspec": {
   "display_name": "extract_cv",
   "language": "python",
   "name": "extract_cv"
  },
  "language_info": {
   "codemirror_mode": {
    "name": "ipython",
    "version": 3
   },
   "file_extension": ".py",
   "mimetype": "text/x-python",
   "name": "python",
   "nbconvert_exporter": "python",
   "pygments_lexer": "ipython3",
   "version": "3.9.7"
  }
 },
 "nbformat": 4,
 "nbformat_minor": 5
}
